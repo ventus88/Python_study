{
 "cells": [
  {
   "cell_type": "code",
   "execution_count": 58,
   "id": "4dcb6abb",
   "metadata": {},
   "outputs": [
    {
     "name": "stdout",
     "output_type": "stream",
     "text": [
      "오늘은 6월 12일 입니다\n"
     ]
    }
   ],
   "source": [
    "me = \"오늘은 %s월 %s일 입니다\"\n",
    "mon = input('달:')\n",
    "day = input(\"일: \")\n",
    "print(me %(mon,day))"
   ]
  },
  {
   "cell_type": "code",
   "execution_count": null,
   "id": "3483905b",
   "metadata": {},
   "outputs": [
    {
     "name": "stdout",
     "output_type": "stream",
     "text": [
      "합은 9\n",
      "빼기 3\n",
      "곱하기 18\n",
      "평군 4.5\n",
      "큰수 6\n",
      "큰수 3\n"
     ]
    }
   ],
   "source": [
    "x = int(input('첫번째 정수'))\n",
    "y = int(input('첫번째 정수'))\n",
    "print(\"합은\" ,x+y)\n",
    "print(\"빼기\" ,x-y)\n",
    "print(\"곱하기\" ,x*y)\n",
    "print('평군', (x+y)/2)\n",
    "print('큰수', max(x,y))\n",
    "print('작은수', min(x,y))"
   ]
  },
  {
   "cell_type": "code",
   "execution_count": 46,
   "id": "89e9fd68",
   "metadata": {},
   "outputs": [
    {
     "name": "stdout",
     "output_type": "stream",
     "text": [
      "다리의 총합은 60\n"
     ]
    }
   ],
   "source": [
    "chicken = int(input(\"닭은 몇마리?\"))\n",
    "pig = int(input(\"돼지는 몇마리?\"))\n",
    "cow = int(input(\"소는 몇마리?\"))\n",
    "chickenleg =  chicken*2\n",
    "pigleg = pig*4\n",
    "cowleg = cow*4\n",
    "\n",
    "\n",
    "print(\"다리의 총합은\", chickenleg+pigleg+cowleg)"
   ]
  },
  {
   "cell_type": "code",
   "execution_count": 2,
   "id": "dd940824",
   "metadata": {},
   "outputs": [
    {
     "name": "stdout",
     "output_type": "stream",
     "text": [
      "나머지 한 변의 최대 길이는: 8\n"
     ]
    }
   ],
   "source": [
    "triangle = int(input(\"삼각현 한 변은?\"))\n",
    "triangle1 = int(input(\"삼각현 다른 한 변은?\"))\n",
    "\n",
    "print(\"나머지 한 변의 최대 길이는:\", triangle+triangle1-1)"
   ]
  },
  {
   "cell_type": "code",
   "execution_count": 4,
   "id": "2fbb7471",
   "metadata": {},
   "outputs": [
    {
     "name": "stdout",
     "output_type": "stream",
     "text": [
      "21600 초 입니다\n",
      "360 초 입니다\n"
     ]
    }
   ],
   "source": [
    "time = int(input('시간 을 적으시요'))\n",
    "time1 = int(input('분 을 적으시요'))\n",
    "print(time*60*60,\"초 입니다\")\n",
    "print(time*60,\"초 입니다\")"
   ]
  },
  {
   "cell_type": "code",
   "execution_count": 10,
   "id": "d3db7315",
   "metadata": {},
   "outputs": [
    {
     "name": "stdout",
     "output_type": "stream",
     "text": [
      "25.0 °C 입니다\n"
     ]
    }
   ],
   "source": [
    "Fahrenheit = int(input(\"F(화씨값을) 입력하세요\"))\n",
    "Celsius = (Fahrenheit - 32) *5 /9\n",
    "\n",
    "print(Celsius,\"°C 입니다\")"
   ]
  },
  {
   "cell_type": "code",
   "execution_count": 14,
   "id": "dded74d5",
   "metadata": {},
   "outputs": [
    {
     "name": "stdout",
     "output_type": "stream",
     "text": [
      "총비용은 33.0 입니다\n"
     ]
    }
   ],
   "source": [
    "food = int(input(\"음식비용을 입력하세요\"))\n",
    "tip = food*0.1\n",
    "\n",
    "print(\"총비용은\",food+tip, \"입니다\" )"
   ]
  },
  {
   "cell_type": "code",
   "execution_count": 6,
   "id": "a9a51a4a",
   "metadata": {},
   "outputs": [
    {
     "name": "stdout",
     "output_type": "stream",
     "text": [
      "두 점 사이의 거리는: 0\n"
     ]
    }
   ],
   "source": [
    "x1 = int(input(\"x1 값을 입력하세요\"))\n",
    "x2 = int(input(\"x2 값을 입력하세요\"))\n",
    "y1 = int(input(\"y1 값을 입력하세요\"))\n",
    "y2 = int(input(\"y2 값을 입력하세요\"))\n",
    "\n",
    "x3 = (x1-x2)**2\n",
    "y3 = (y1-y2)**2\n",
    "x3y3 = x3 + y3\n",
    "\n",
    "print(\"두 점 사이의 거리는:\", round(x3y3**0.5))\n"
   ]
  },
  {
   "cell_type": "code",
   "execution_count": 27,
   "id": "270768ec",
   "metadata": {},
   "outputs": [
    {
     "name": "stdout",
     "output_type": "stream",
     "text": [
      "정수의 합은 36 다\n"
     ]
    }
   ],
   "source": [
    "me = \"정수의 합은 %s 다\"\n",
    "integer = input ('정수의 합은: ')\n",
    "digit = [int(i) for i in integer]\n",
    "total = sum(digit)\n",
    "\n",
    "print(me % total)"
   ]
  },
  {
   "cell_type": "code",
   "execution_count": 36,
   "id": "0932735b",
   "metadata": {},
   "outputs": [
    {
     "name": "stdout",
     "output_type": "stream",
     "text": [
      "123 , 456\n",
      "123,456\n",
      "123,456\n",
      "123,456\n"
     ]
    }
   ],
   "source": [
    "rum = int(input(\"숫자를 입력하세요\"))\n",
    "\n",
    "if rum>=100000 and rum<1000000:\n",
    "    moreT = rum//1000\n",
    "    lessT = rum%1000\n",
    "    print(moreT,\",\",lessT)\n",
    "    print(str(moreT)+\",\"+str(lessT))\n",
    "    print(\"%d,%d\" %(moreT,lessT))\n",
    "    print(f\"{moreT},{lessT}\")"
   ]
  },
  {
   "cell_type": "code",
   "execution_count": 45,
   "id": "2fecf3df",
   "metadata": {},
   "outputs": [
    {
     "name": "stdout",
     "output_type": "stream",
     "text": [
      "12\n"
     ]
    }
   ],
   "source": [
    "num = int(input(\"정수\"))\n",
    "\n",
    "fourth = num//1000\n",
    "third = (num%1000)//100\n",
    "second = (num%100)//10\n",
    "first = (rum%10)\n",
    "\n",
    "sum = fourth+third+second+first\n",
    "print(sum)"
   ]
  }
 ],
 "metadata": {
  "kernelspec": {
   "display_name": ".venv",
   "language": "python",
   "name": "python3"
  },
  "language_info": {
   "codemirror_mode": {
    "name": "ipython",
    "version": 3
   },
   "file_extension": ".py",
   "mimetype": "text/x-python",
   "name": "python",
   "nbconvert_exporter": "python",
   "pygments_lexer": "ipython3",
   "version": "3.13.4"
  }
 },
 "nbformat": 4,
 "nbformat_minor": 5
}
