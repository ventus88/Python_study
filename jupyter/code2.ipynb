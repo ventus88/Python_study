{
 "cells": [
  {
   "cell_type": "code",
   "execution_count": null,
   "id": "925729c6",
   "metadata": {},
   "outputs": [],
   "source": [
    "sdgdsgdsg"
   ]
  }
 ],
 "metadata": {
  "language_info": {
   "name": "python"
  }
 },
 "nbformat": 4,
 "nbformat_minor": 5
}
