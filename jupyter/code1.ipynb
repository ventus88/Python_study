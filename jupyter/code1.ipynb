{
 "cells": [
  {
   "cell_type": "code",
   "execution_count": null,
   "id": "a0b1a07f",
   "metadata": {
    "vscode": {
     "languageId": "ini"
    }
   },
   "outputs": [],
   "source": [
    "\n",
    "age = int(input(\"나이를 입력하세요\"))\n",
    "if age >= \"19\":\n",
    "    re = \"술 구매가 가능 합니다\"\n",
    "else:\n",
    "    re = \"술 구매가 불가 합니다\"\n",
    "print(re)\n",
    "\n"
   ]
  },
  {
   "cell_type": "code",
   "execution_count": 3,
   "id": "a45caf98",
   "metadata": {},
   "outputs": [
    {
     "name": "stdout",
     "output_type": "stream",
     "text": [
      "술 구매가 불가 합니다\n"
     ]
    }
   ],
   "source": [
    "age = int(input(\"나이를 입력하세요\"))\n",
    "if age >= 19:\n",
    "    re = \"술 구매가 가능 합니다\"\n",
    "else:\n",
    "    re = \"술 구매가 불가 합니다\"\n",
    "print(re)"
   ]
  },
  {
   "cell_type": "code",
   "execution_count": null,
   "id": "abad47e8",
   "metadata": {},
   "outputs": [
    {
     "name": "stdout",
     "output_type": "stream",
     "text": [
      "당신의 학점은C입니다\n"
     ]
    }
   ],
   "source": [
    "score = int(input(\"점수를 입력하세여\"))\n",
    "if score >= 90 \n",
    "    rum = \"A\"\n",
    "elif score >= 80:\n",
    "    rum = \"B\"\n",
    "elif score >= 70:\n",
    "    rum = \"C\"\n",
    "elif score >= 60:\n",
    "    rum = \"D\"\n",
    "else:\n",
    "    rum = \"F\"\n",
    "print(f\"당신의 학점은{rum}입니다\")"
   ]
  },
  {
   "cell_type": "code",
   "execution_count": null,
   "id": "17ac44ea",
   "metadata": {},
   "outputs": [],
   "source": []
  },
  {
   "cell_type": "code",
   "execution_count": null,
   "id": "30525fa3",
   "metadata": {},
   "outputs": [],
   "source": [
    "#문제 6번\n",
    "import random \n",
    "\n",
    "user = input(\"가위 바위 보 하나를 내시오\")\n",
    "import random\n",
    "computer = random.choice([\"가위\", \"바위\", \"보\"])\n",
    "win = { '가위': '보' ,\n",
    "        '바위': '가위',\n",
    "        '보' : '바위',\n",
    "        }\n",
    "print(computer)\n",
    "if user == computer:\n",
    "    run = \"비겼습니다\"\n",
    "elif win.get(user) == computer:\n",
    "    run = \"사용자 승\"\n",
    "else:\n",
    "    run = \"컴퓨터 승\"\n",
    "print(f\"결과는 {run}\")\n",
    "\n",
    "\n",
    "    \n",
    "\n",
    "\n"
   ]
  }
 ],
 "metadata": {
  "kernelspec": {
   "display_name": ".venv",
   "language": "python",
   "name": "python3"
  },
  "language_info": {
   "codemirror_mode": {
    "name": "ipython",
    "version": 3
   },
   "file_extension": ".py",
   "mimetype": "text/x-python",
   "name": "python",
   "nbconvert_exporter": "python",
   "pygments_lexer": "ipython3",
   "version": "3.13.4"
  }
 },
 "nbformat": 4,
 "nbformat_minor": 5
}
